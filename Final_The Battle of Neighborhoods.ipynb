{
 "cells": [
  {
   "cell_type": "markdown",
   "metadata": {},
   "source": [
    "#### Introduction\n",
    "This project is to help client planning to open a restaurant in Vancouver, BC. But the location of restaurant and type of food served are unknown. Certain steps we are going to walk through to reach a final conclusion, such as retrieving data, analyzing, results, recommendations. Matrix would be helpful to compare types of restaurant and neighbourhood. Also, average rental fee will be considered, helps client to control the cost and maximize the return."
   ]
  },
  {
   "cell_type": "markdown",
   "metadata": {},
   "source": [
    "#### Source of Data\n",
    "- Geonames  \n",
    "Data https://www.geonames.org/postal-codes/CA/BC/british-columbia.html will be scrapped from geonames website for each city in Greater Vancouver Area. This data contains city name, postal code, and coordinator of city, which could help connecting to Foursquare.  ![Geoname](https://github.com/HaoZ124/Coursera_Capstone/blob/main/Capture.PNG?raw=true)\n",
    "- Commercial Property Lease  \n",
    "The commercial property lease cost in Vancouver area https://github.com/HaoZ124/Coursera_Capstone/blob/main/Lease%20Price.csv created manually from property listing website. Extracting postal code and yearly lease cost was saved as csv file. And data will be processed and refined to merge into previous geonames data frame.  ![Property Lease Cost](https://github.com/HaoZ124/Coursera_Capstone/blob/main/Capture2.PNG?raw=true)\n",
    "- Foursquare API  \n",
    "Through Foursquare API data we can all manner of venues and events within an area of interest. Since Foursquare as a powerful tool is able to give us all functions we need, we decide only use 
    square API data as map information search. To receive venues names, location, and menus we have to |send request with neighborhood's coordinator and searching radius 300 meters.\n",
    "![Fourquare](https://github.com/HaoZ124/Coursera_Capstone/blob/main/Capture1.PNG?raw=true)\n"
   ]
  },
  {
   "cell_type": "markdown",
   "metadata": {},
   "source": [
    "#### Methodology\n",
    "Clustering Approach  \n",
    "To compare the similarities or dissimilarities of Vancouver area, we decided to explore neighborhoods, segment them, and group them into clusters to find similar restaurant or cafe in Vancouver area. In addition, grouping restaurants, bars, and cafe in to clusters gives us visual map of distribution, and helps us to provide better recommendations. \n",
    "![Cluster](https://github.com/HaoZ124/Coursera_Capstone/blob/main/Clustering.PNG?raw=true)\n",
    "\n",
    "Clusters Exam  \n",
    "The entire Vancouver city is clustered into 10 similarities area by cluster label.\n",
    "![Exam](https://github.com/HaoZ124/Coursera_Capstone/blob/main/Cluster%20Exam.PNG?raw=true)\n",
    "\n",
    "Histogram Plot\n",
    "Commercial Property Cost data in Vancouver will be grouped by postal code and calculated mean of the leasing fee. Processed data can be sorted by ascending order to show the cost of leasing property in Vancouver visually.\n",
    "![Hist](https://github.com/HaoZ124/Coursera_Capstone/blob/main/Hist.PNG?raw=true)\n"
   ]
  },
  {
   "cell_type": "markdown",
   "metadata": {},
   "source": [
    "#### Results\n",
    "Finally there are three useful information we learned through above procedure:\n",
    "- Vancouver map is created by plot latitude and longitude of neighborhoods, which gives visual idea of restaurant locations.\n",
    "![Vancouver Map](https://github.com/HaoZ124/Coursera_Capstone/blob/main/van_map.PNG?raw=true)\n",
    "\n",
    "- Cost is the key part of opening a business, so we plotted the sorted leasing cost by postal code in histogram. Leasing cost is ascending to show us visually the cheaper area for opening restaruants. \n",
    "![Leasing Cost](https://github.com/HaoZ124/Coursera_Capstone/blob/main/Cost.PNG?raw=true)\n",
    "\n",
    "- Matching the first two cheapest leasing cost neighborhoods with venues data, we can provide suggestions to client about type of restaurant in which area.\n",
    "![Comparison](https://github.com/HaoZ124/Coursera_Capstone/blob/main/Comparison.PNG?raw=true)"
   ]
  },
  {
   "cell_type": "markdown",
   "metadata": {},
   "source": [
    "#### Discussion\n",
    "By analyzing results V6A and V6K area are two ideal neighborhoods with lower leasing cost for opening restaurant. However, there is no popular restaurant in the common venues for the neighborhood V6A. For V6K area, on the other hand, showing on Foursqure popular common venues are coffee shop, cafe, and vegetarian restaurants. Meanwhile, the leasing cost for business is $ 41.14/sqft/yr approximately."
   ]
  },
  {
   "cell_type": "markdown",
   "metadata": {},
   "source": [
    "#### Conclusion\n",
    "Overall, we can not only consider what can make money for a new business , but also think about operational cost. We recommend Central Kitsilano neighborhood in Vancouver city for starting up a small restaurant, such as coffee and bakery shop or vegetarian restaurant."
   ]
  },
  {
   "cell_type": "markdown",
   "metadata": {},
   "source": [
    "#### Future Study\n",
    "We are able to continue using python to analyze more dataframe like population. And more modeling methods can be applied to predict the popularities of style selection. Traffic can be an another factor taken in account for specific address. "
   ]
  },
  {
   "cell_type": "markdown",
   "metadata": {},
   "source": [
    "#### Reference\n",
    "“British Columbia - postal codes.” Geonames, geonames.org, 12 Feb. 2021, www.geonames.org/postal-codes/CA/BC/british-columbia.html  \n",
    "Statistics Canada. 2017. Vancouver [Census metropolitan area], British Columbia and British Columbia [Province] (table). Census Profile. 2016 Census. Statistics Canada Catalogue no. 98-316-X2016001. Ottawa. Released November 29, 2017.\n",
    "https://www12.statcan.gc.ca/census-recensement/2016/dp-pd/prof/index.cfm?Lang=E (accessed February 12, 2021)."
   ]
  },
  {
   "cell_type": "code",
   "execution_count": null,
   "metadata": {},
   "outputs": [],
   "source": []
  },
  {
   "cell_type": "code",
   "execution_count": null,
   "metadata": {},
   "outputs": [],
   "source": []
  }
 ],
 "metadata": {
  "kernelspec": {
   "display_name": "Python 3.7",
   "language": "python",
   "name": "python3"
  },
  "language_info": {
   "codemirror_mode": {
    "name": "ipython",
    "version": 3
   },
   "file_extension": ".py",
   "mimetype": "text/x-python",
   "name": "python",
   "nbconvert_exporter": "python",
   "pygments_lexer": "ipython3",
   "version": "3.7.9"
  }
 },
 "nbformat": 4,
 "nbformat_minor": 1
}
